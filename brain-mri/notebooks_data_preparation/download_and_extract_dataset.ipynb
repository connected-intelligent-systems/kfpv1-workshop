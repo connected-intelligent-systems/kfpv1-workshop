{
 "cells": [
  {
   "cell_type": "code",
   "execution_count": 1,
   "id": "55341038-f021-44bb-81e7-5ce31735ff05",
   "metadata": {},
   "outputs": [],
   "source": [
    "import requests, zipfile, io\n",
    "\n",
    "# Copy download URL from here : https://www.kaggle.com/datasets/mateuszbuda/lgg-mri-segmentation\n",
    "zip_file_url = ''\n",
    "\n",
    "r = requests.get(zip_file_url)\n",
    "z = zipfile.ZipFile(io.BytesIO(r.content))\n",
    "z.extractall(\"./original-brain-mri\")"
   ]
  }
 ],
 "metadata": {
  "kernelspec": {
   "display_name": "Python 3 (ipykernel)",
   "language": "python",
   "name": "python3"
  },
  "language_info": {
   "codemirror_mode": {
    "name": "ipython",
    "version": 3
   },
   "file_extension": ".py",
   "mimetype": "text/x-python",
   "name": "python",
   "nbconvert_exporter": "python",
   "pygments_lexer": "ipython3",
   "version": "3.11.5"
  }
 },
 "nbformat": 4,
 "nbformat_minor": 5
}
