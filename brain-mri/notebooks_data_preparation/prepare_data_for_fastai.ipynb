{
 "cells": [
  {
   "cell_type": "code",
   "execution_count": null,
   "id": "6ec9b25b-26cd-4860-9085-329d230b9b0b",
   "metadata": {},
   "outputs": [],
   "source": [
    "!pip install opencv-python-headless"
   ]
  },
  {
   "cell_type": "code",
   "execution_count": null,
   "id": "b09b97b3-26f4-4f40-a150-9c6c652fb631",
   "metadata": {},
   "outputs": [],
   "source": [
    "import cv2\n",
    "import os\n",
    "import matplotlib.pyplot as plt\n"
   ]
  },
  {
   "cell_type": "code",
   "execution_count": null,
   "id": "1010a843-e283-4653-969b-a314aca912c7",
   "metadata": {},
   "outputs": [],
   "source": [
    "def binarize(path):\n",
    "    for file in os.listdir(path):\n",
    "        mask = cv2.imread(os.path.join(path, file))\n",
    "        gray = cv2.cvtColor(mask, cv2.COLOR_BGR2GRAY)\n",
    "        (T, thresh) = cv2.threshold(gray,20,255,cv2.THRESH_BINARY)\n",
    "    \n",
    "        cv2.imwrite(os.path.join(path,file), thresh)"
   ]
  },
  {
   "cell_type": "code",
   "execution_count": null,
   "id": "7fc68516-28c1-4d97-ac12-1bc13d4abb02",
   "metadata": {},
   "outputs": [],
   "source": [
    "def remove_mask_from_filenames(folder_path):\n",
    "    if not os.path.isdir(folder_path):\n",
    "        print(f\"Error: {folder_path} is not a valid directory.\")\n",
    "        return\n",
    "\n",
    "    for filename in os.listdir(folder_path):\n",
    "        if filename.endswith(\"_mask.tif\"):\n",
    "            new_filename = filename[:-9]+'.tif'  # Remove the last 5 characters (\"_mask\") from the filename\n",
    "            old_path = os.path.join(folder_path, filename)\n",
    "            new_path = os.path.join(folder_path, new_filename)\n",
    "            os.rename(old_path, new_path)\n",
    "            print(f\"Renamed {filename} to {new_filename}\")"
   ]
  },
  {
   "cell_type": "code",
   "execution_count": null,
   "id": "6df0aa71-0f00-4c57-8cfa-2c994dea9d2d",
   "metadata": {},
   "outputs": [],
   "source": [
    "path = '/original-brain-mri/masks'\n",
    "\n",
    "binarize(path)"
   ]
  },
  {
   "cell_type": "code",
   "execution_count": null,
   "id": "02ccf0bd-d93c-42ed-b20f-e0576e9a8c86",
   "metadata": {},
   "outputs": [],
   "source": [
    "remove_mask_from_filenames(path)"
   ]
  }
 ],
 "metadata": {
  "kernelspec": {
   "display_name": "Python 3 (ipykernel)",
   "language": "python",
   "name": "python3"
  },
  "language_info": {
   "codemirror_mode": {
    "name": "ipython",
    "version": 3
   },
   "file_extension": ".py",
   "mimetype": "text/x-python",
   "name": "python",
   "nbconvert_exporter": "python",
   "pygments_lexer": "ipython3",
   "version": "3.8.10"
  }
 },
 "nbformat": 4,
 "nbformat_minor": 5
}
