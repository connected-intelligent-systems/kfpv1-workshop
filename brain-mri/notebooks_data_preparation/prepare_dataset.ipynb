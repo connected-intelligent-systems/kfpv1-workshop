{
 "cells": [
  {
   "cell_type": "code",
   "execution_count": null,
   "id": "5aa97cf3-6dda-4b71-b3e4-28e0aceaa753",
   "metadata": {},
   "outputs": [],
   "source": [
    "!pip install opencv-python-headless\n",
    "!pip install alive-progress"
   ]
  },
  {
   "cell_type": "markdown",
   "id": "8fccc785-878d-47f3-ba11-5cdceaaa5d8e",
   "metadata": {},
   "source": [
    "# Dataset Conversion\n",
    "This notebook is used to create a dataset split into training and validation data. By default it will do an 70/30 split and copy the files into the yolo/dataset folder.\n",
    "It also creates polyon annotation from the masks for yolo segmentation. This won´t work for multi instance segmentation datasets."
   ]
  },
  {
   "cell_type": "code",
   "execution_count": null,
   "id": "1dfb4a24-a6ef-428a-9159-e03761654935",
   "metadata": {},
   "outputs": [],
   "source": [
    "import os\n",
    "import yaml\n",
    "import numpy as np\n",
    "\n",
    "from prepare_dataset_functions import copy_files, convert_mask_to_poly_annotation, split_folder_content"
   ]
  },
  {
   "cell_type": "markdown",
   "id": "7698e571-3081-444d-95ba-329f0bc1bfbc",
   "metadata": {},
   "source": [
    "## Copy to separate folders"
   ]
  },
  {
   "cell_type": "code",
   "execution_count": null,
   "id": "58e9f9e6-d76b-488b-89df-b738e13a17d3",
   "metadata": {},
   "outputs": [],
   "source": [
    "input_folder_path = \"./original-brain-mri/\"\n",
    "\n",
    "output_folder_images = \"./data_temp/images\"\n",
    "output_folder_masks = \"./data_temp/masks\"\n",
    "output_folder_polys = \"./data_temp/polys\"\n",
    "\n",
    "os.makedirs(output_folder_images, exist_ok=True)\n",
    "os.makedirs(output_folder_masks, exist_ok=True)\n",
    "os.makedirs(output_folder_polys, exist_ok=True)\n",
    "\n",
    "# Seperate files in folder mask/images\n",
    "copy_files(input_folder_path, output_folder_images, output_folder_masks)"
   ]
  },
  {
   "cell_type": "markdown",
   "id": "59dbf8be-a81d-46ff-870f-4d8025688f04",
   "metadata": {},
   "source": [
    "## Convert masks to polys"
   ]
  },
  {
   "cell_type": "code",
   "execution_count": null,
   "id": "ae7ceb78-e5fb-4d5f-b337-d4054827f7ea",
   "metadata": {},
   "outputs": [],
   "source": [
    "convert_mask_to_poly_annotation(output_folder_masks, output_folder_polys)"
   ]
  },
  {
   "cell_type": "markdown",
   "id": "161bdb05-c788-4a7b-9a11-fc744c1db979",
   "metadata": {},
   "source": [
    "## Create split dataset\n"
   ]
  },
  {
   "cell_type": "code",
   "execution_count": null,
   "id": "55445a3f-eb1e-40dd-b938-4b247b6935c4",
   "metadata": {},
   "outputs": [],
   "source": [
    "yolo_dataset_dir = 'yolo/datasets'\n",
    "dataset_name = 'yolo_mri_brain'\n",
    "\n",
    "dataset_dir = os.path.join(yolo_dataset_dir, dataset_name)\n",
    "\n",
    "# Specify the percentage where val and test will split\n",
    "split_percentage_val = 0.6\n",
    "split_percentage_test = 0.9\n",
    "\n",
    "image_file_ending = '.tif'\n",
    "\n",
    "split_folder_content(output_folder_images, output_folder_polys, output_folder_masks, dataset_dir, split_percentage_val, split_percentage_test, image_file_ending)"
   ]
  },
  {
   "cell_type": "markdown",
   "id": "d04fb0e7-2077-4e7b-8e39-549e5b9c8ec5",
   "metadata": {},
   "source": [
    "## Create yaml file for yolo"
   ]
  },
  {
   "cell_type": "code",
   "execution_count": null,
   "id": "d6291b3f-8eb4-41bb-a653-1879e3ca4b81",
   "metadata": {},
   "outputs": [],
   "source": [
    "yaml_file_name = 'mri_brain.yaml'\n",
    "labels = [(0,'tumor')]\n",
    "\n",
    "data = dict(\n",
    "    path = '/usr/share/kfpv1-workshop/brain-mri/notebooks_data_preparation/yolo/datasets/'+dataset_name,\n",
    "    train = 'train/images',\n",
    "    val = 'valid/images',\n",
    "    test = 'test/images',\n",
    "    names = dict(labels)\n",
    ")\n",
    "\n",
    "with open(os.path.join(yolo_dataset_dir, yaml_file_name), 'w') as outfile:\n",
    "    yaml.dump(data, outfile, default_flow_style=False)\n"
   ]
  }
 ],
 "metadata": {
  "kernelspec": {
   "display_name": "Python 3 (ipykernel)",
   "language": "python",
   "name": "python3"
  },
  "language_info": {
   "codemirror_mode": {
    "name": "ipython",
    "version": 3
   },
   "file_extension": ".py",
   "mimetype": "text/x-python",
   "name": "python",
   "nbconvert_exporter": "python",
   "pygments_lexer": "ipython3",
   "version": "3.11.5"
  }
 },
 "nbformat": 4,
 "nbformat_minor": 5
}
